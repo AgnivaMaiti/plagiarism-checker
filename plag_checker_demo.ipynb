{
 "cells": [
  {
   "cell_type": "markdown",
   "id": "4b1b150d",
   "metadata": {},
   "source": [
    "# Plagiarism Checker Demo (Colab)\n",
    "\n",
    "Try out the plagiarism checker project in Google Colab.\n",
    "\n",
    "This notebook will:\n",
    "- Install dependencies\n",
    "- Clone the repository\n",
    "- Prepare a sample dataset\n",
    "- Run the main pipeline\n",
    "- Show example results"
   ]
  },
  {
   "cell_type": "code",
   "execution_count": null,
   "id": "ce70ae80",
   "metadata": {},
   "outputs": [],
   "source": [
    "# Install required system packages\n",
    "!pip install faiss-cpu xgboost sentence-transformers pandas scikit-learn"
   ]
  },
  {
   "cell_type": "code",
   "execution_count": null,
   "id": "618572c5",
   "metadata": {},
   "outputs": [],
   "source": [
    "# Clone the repository (if not already present)\n",
    "!git clone https://github.com/AgnivaMaiti/plagiarism-checker.git || echo 'Repo already cloned.'\n",
    "%cd plagiarism-checker"
   ]
  },
  {
   "cell_type": "markdown",
   "id": "a7c34bc0",
   "metadata": {},
   "source": [
    "## Prepare a Sample Dataset\n",
    "If you don't have your own `plagiarism_dataset.csv`, we'll create a small demo file."
   ]
  },
  {
   "cell_type": "code",
   "execution_count": null,
   "id": "0d6479b8",
   "metadata": {},
   "outputs": [],
   "source": [
    "import os\n",
    "import pandas as pd\n",
    "\n",
    "if not os.path.exists('plagiarism_dataset.csv'):\n",
    "    data = {\n",
    "        'original': [\n",
    "            'Machine learning is a field of artificial intelligence.',\n",
    "            'The capital of France is Paris.',\n",
    "            'Photosynthesis occurs in plants.'\n",
    "        ],\n",
    "        'plagiarized': [\n",
    "            'Artificial intelligence includes machine learning as a subfield.',\n",
    "            'Paris is the capital city of France.',\n",
    "            'Plants perform photosynthesis.'\n",
    "        ],\n",
    "        'type': [\n",
    "            'paraphrase',\n",
    "            'paraphrase',\n",
    "            'paraphrase'\n",
    "        ]\n",
    "    }\n",
    "    pd.DataFrame(data).to_csv('plagiarism_dataset.csv', index=False)\n",
    "    print('Sample dataset created.')\n",
    "else:\n",
    "    print('Dataset already exists.')"
   ]
  },
  {
   "cell_type": "markdown",
   "id": "6caaa4dd",
   "metadata": {},
   "source": [
    "## Run the Main Pipeline\n",
    "This will train the model, build the index, and run demo plagiarism searches."
   ]
  },
  {
   "cell_type": "code",
   "execution_count": null,
   "id": "ee8da2b0",
   "metadata": {},
   "outputs": [],
   "source": [
    "!python main.py"
   ]
  },
  {
   "cell_type": "markdown",
   "id": "d23ade08",
   "metadata": {},
   "source": [
    "## Next Steps\n",
    "- Replace `plagiarism_dataset.csv` with your own data for better results.\n",
    "- Modify `main.py` or the corpus as needed for your use case.\n",
    "- Explore the code in the `engine/` and `utils/` folders."
   ]
  }
 ],
 "metadata": {
  "language_info": {
   "name": "python"
  }
 },
 "nbformat": 4,
 "nbformat_minor": 5
}
